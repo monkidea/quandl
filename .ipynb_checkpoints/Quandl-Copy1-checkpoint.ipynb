{
 "cells": [
  {
   "cell_type": "code",
   "execution_count": null,
   "metadata": {},
   "outputs": [],
   "source": [
    "#https://pypi.python.org/pypi/Quandl\n",
    "from multiprocessing import Pool\n",
    "import quandl\n",
    "import pandas as pd\n",
    "import requests\n",
    "import csv\n",
    "apikey = #insertapikeyhere\n",
    "quandl.ApiConfig.api_key = apikey"
   ]
  },
  {
   "cell_type": "code",
   "execution_count": null,
   "metadata": {},
   "outputs": [],
   "source": [
    "market = {}\n",
    "year = ['2011','2012','2013','2014','2015', '2016','2017']\n",
    "month = ['01','02','03','04','05','06','07','08','09','10','11','12']\n",
    "thirtydays = ['04','06','09','11']\n",
    "thirtyonedays = ['01','03','05','07','08','10','12']\n",
    "day28 = ['01','02','03','04','05','06','07','08','09','10','11','12','13','14','15','16','17','18','19','20','21','22','23','24','25','26','27','28']\n",
    "day30 = ['01','02','03','04','05','06','07','08','09','10','11','12','13','14','15','16','17','18','19','20','21','22','23','24','25','26','27','28', '29','30']\n",
    "day31 = ['01','02','03','04','05','06','07','08','09','10','11','12','13','14','15','16','17','18','19','20','21','22','23','24','25','26','27','28', '29','30','31']\n",
    "dates = []\n",
    "addresses = []\n",
    "for k in year:\n",
    "    for i in thirtydays:\n",
    "        for j in day30:\n",
    "            addresses.append(\"https://www.quandl.com/api/v3/datatables/WIKI/PRICES.json?date=\" + k + i + j + \"&api_key=\" + apikey)\n",
    "    for i in thirtyonedays:\n",
    "        for j in day31:\n",
    "            addresses.append(\"https://www.quandl.com/api/v3/datatables/WIKI/PRICES.json?date=\" + k + i + j + \"&api_key=\" + apikey)\n",
    "    for j in day28:\n",
    "        addresses.append(\"https://www.quandl.com/api/v3/datatables/WIKI/PRICES.json?date=\" + k + \"02\" + j + \"&api_key=\" + apikey)"
   ]
  },
  {
   "cell_type": "code",
   "execution_count": null,
   "metadata": {},
   "outputs": [],
   "source": [
    "addresses"
   ]
  },
  {
   "cell_type": "code",
   "execution_count": null,
   "metadata": {},
   "outputs": [],
   "source": [
    "prices = []\n",
    "for i in addresses:\n",
    "    result = requests.get(i)\n",
    "    df = result.json()\n",
    "    prices.append(df)"
   ]
  },
  {
   "cell_type": "code",
   "execution_count": null,
   "metadata": {},
   "outputs": [],
   "source": [
    "prices"
   ]
  },
  {
   "cell_type": "code",
   "execution_count": null,
   "metadata": {},
   "outputs": [],
   "source": [
    "keys = prices[0].keys()\n",
    "with open('stocks.csv', 'wb') as output_file:\n",
    "    dict_writer = csv.DictWriter(output_file, keys)\n",
    "    dict_writer.writeheader()\n",
    "    dict_writer.writerows(prices)"
   ]
  },
  {
   "cell_type": "code",
   "execution_count": null,
   "metadata": {
    "collapsed": true
   },
   "outputs": [],
   "source": []
  }
 ],
 "metadata": {
  "kernelspec": {
   "display_name": "Python 3",
   "language": "python",
   "name": "python3"
  },
  "language_info": {
   "codemirror_mode": {
    "name": "ipython",
    "version": 3
   },
   "file_extension": ".py",
   "mimetype": "text/x-python",
   "name": "python",
   "nbconvert_exporter": "python",
   "pygments_lexer": "ipython3",
   "version": "3.6.3"
  }
 },
 "nbformat": 4,
 "nbformat_minor": 2
}
