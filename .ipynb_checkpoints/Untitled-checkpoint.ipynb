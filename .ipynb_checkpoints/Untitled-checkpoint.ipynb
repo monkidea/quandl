{
 "cells": [
  {
   "cell_type": "code",
   "execution_count": 1,
   "metadata": {
    "collapsed": true
   },
   "outputs": [],
   "source": [
    "#https://pypi.python.org/pypi/Quandl\n",
    "from multiprocessing import Pool\n",
    "import quandl\n",
    "import pandas as pd\n",
    "import requests\n",
    "import csv\n",
    "apikey = #insertapikeyhere\n",
    "quandl.ApiConfig.api_key = apikey"
   ]
  },
  {
   "cell_type": "code",
   "execution_count": 27,
   "metadata": {},
   "outputs": [],
   "source": [
    "file = open('hongkongtickers.txt','r')"
   ]
  },
  {
   "cell_type": "code",
   "execution_count": 28,
   "metadata": {},
   "outputs": [],
   "source": [
    "content = file.readlines()\n",
    "#content = [x.replace('\\n','') for x in content]"
   ]
  },
  {
   "cell_type": "code",
   "execution_count": 31,
   "metadata": {},
   "outputs": [],
   "source": [
    "content = [x.rstrip() for x in content]"
   ]
  },
  {
   "cell_type": "code",
   "execution_count": null,
   "metadata": {},
   "outputs": [],
   "source": [
    "prices = []\n",
    "for i in content:\n",
    "    result = requests.get('https://www.quandl.com/api/v3/datasets/HKEX/'+i+'?start_date=2010-01-01&end_date=2018-06-15&api_key='+apikey)\n",
    "    df = result.json()\n",
    "    prices.append(df)\n"
   ]
  },
  {
   "cell_type": "code",
   "execution_count": null,
   "metadata": {
    "collapsed": true
   },
   "outputs": [],
   "source": []
  }
 ],
 "metadata": {
  "kernelspec": {
   "display_name": "Python 3",
   "language": "python",
   "name": "python3"
  },
  "language_info": {
   "codemirror_mode": {
    "name": "ipython",
    "version": 3
   },
   "file_extension": ".py",
   "mimetype": "text/x-python",
   "name": "python",
   "nbconvert_exporter": "python",
   "pygments_lexer": "ipython3",
   "version": "3.6.3"
  }
 },
 "nbformat": 4,
 "nbformat_minor": 2
}
